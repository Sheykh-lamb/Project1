{
 "cells": [
  {
   "cell_type": "markdown",
   "id": "50b463c5",
   "metadata": {},
   "source": [
    "#### Импорт библиотек"
   ]
  },
  {
   "cell_type": "code",
   "execution_count": 1,
   "id": "881225b4",
   "metadata": {},
   "outputs": [],
   "source": [
    "import pandas as pd\n",
    "import matplotlib.pyplot as plt"
   ]
  },
  {
   "cell_type": "markdown",
   "id": "bb7bcdf9",
   "metadata": {},
   "source": [
    "#### Импорт и загрузка данных"
   ]
  },
  {
   "cell_type": "markdown",
   "id": "0af6c983",
   "metadata": {},
   "source": [
    "Загрузим наши данные"
   ]
  },
  {
   "cell_type": "code",
   "execution_count": 2,
   "id": "9537e3c7",
   "metadata": {},
   "outputs": [],
   "source": [
    "df = pd.read_excel('data.xlsx')"
   ]
  },
  {
   "cell_type": "code",
   "execution_count": 3,
   "id": "91db91de",
   "metadata": {
    "scrolled": true
   },
   "outputs": [
    {
     "data": {
      "text/html": [
       "<div>\n",
       "<style scoped>\n",
       "    .dataframe tbody tr th:only-of-type {\n",
       "        vertical-align: middle;\n",
       "    }\n",
       "\n",
       "    .dataframe tbody tr th {\n",
       "        vertical-align: top;\n",
       "    }\n",
       "\n",
       "    .dataframe thead th {\n",
       "        text-align: right;\n",
       "    }\n",
       "</style>\n",
       "<table border=\"1\" class=\"dataframe\">\n",
       "  <thead>\n",
       "    <tr style=\"text-align: right;\">\n",
       "      <th></th>\n",
       "      <th>client_id</th>\n",
       "      <th>sum</th>\n",
       "      <th>status</th>\n",
       "      <th>sale</th>\n",
       "      <th>new/current</th>\n",
       "      <th>Unnamed: 5</th>\n",
       "      <th>document</th>\n",
       "      <th>receiving_date</th>\n",
       "    </tr>\n",
       "  </thead>\n",
       "  <tbody>\n",
       "    <tr>\n",
       "      <th>0</th>\n",
       "      <td>NaN</td>\n",
       "      <td>NaN</td>\n",
       "      <td>Май 2021</td>\n",
       "      <td>NaN</td>\n",
       "      <td>NaN</td>\n",
       "      <td>NaN</td>\n",
       "      <td>NaN</td>\n",
       "      <td>NaN</td>\n",
       "    </tr>\n",
       "    <tr>\n",
       "      <th>1</th>\n",
       "      <td>6.0</td>\n",
       "      <td>11693.7</td>\n",
       "      <td>ВНУТРЕННИЙ</td>\n",
       "      <td>-</td>\n",
       "      <td>-</td>\n",
       "      <td>NaN</td>\n",
       "      <td>-</td>\n",
       "      <td>-</td>\n",
       "    </tr>\n",
       "    <tr>\n",
       "      <th>2</th>\n",
       "      <td>14.0</td>\n",
       "      <td>5452.7</td>\n",
       "      <td>ОПЛАЧЕНО</td>\n",
       "      <td>Петрова</td>\n",
       "      <td>новая</td>\n",
       "      <td>NaN</td>\n",
       "      <td>оригинал</td>\n",
       "      <td>2021-07-26 00:00:00</td>\n",
       "    </tr>\n",
       "    <tr>\n",
       "      <th>3</th>\n",
       "      <td>15.0</td>\n",
       "      <td>13991.7</td>\n",
       "      <td>ОПЛАЧЕНО</td>\n",
       "      <td>Иванов</td>\n",
       "      <td>текущая</td>\n",
       "      <td>NaN</td>\n",
       "      <td>оригинал</td>\n",
       "      <td>2021-06-08 00:00:00</td>\n",
       "    </tr>\n",
       "    <tr>\n",
       "      <th>4</th>\n",
       "      <td>16.0</td>\n",
       "      <td>719.7</td>\n",
       "      <td>ОПЛАЧЕНО</td>\n",
       "      <td>Иванов</td>\n",
       "      <td>текущая</td>\n",
       "      <td>NaN</td>\n",
       "      <td>оригинал</td>\n",
       "      <td>2021-06-08 00:00:00</td>\n",
       "    </tr>\n",
       "    <tr>\n",
       "      <th>...</th>\n",
       "      <td>...</td>\n",
       "      <td>...</td>\n",
       "      <td>...</td>\n",
       "      <td>...</td>\n",
       "      <td>...</td>\n",
       "      <td>...</td>\n",
       "      <td>...</td>\n",
       "      <td>...</td>\n",
       "    </tr>\n",
       "    <tr>\n",
       "      <th>725</th>\n",
       "      <td>285.0</td>\n",
       "      <td>4328.7</td>\n",
       "      <td>ОПЛАЧЕНО</td>\n",
       "      <td>Васильев</td>\n",
       "      <td>текущая</td>\n",
       "      <td>NaN</td>\n",
       "      <td>оригинал</td>\n",
       "      <td>2021-11-15 00:00:00</td>\n",
       "    </tr>\n",
       "    <tr>\n",
       "      <th>726</th>\n",
       "      <td>360.0</td>\n",
       "      <td>3096.2</td>\n",
       "      <td>ОПЛАЧЕНО</td>\n",
       "      <td>Васильев</td>\n",
       "      <td>новая</td>\n",
       "      <td>NaN</td>\n",
       "      <td>НЕТ</td>\n",
       "      <td>NaN</td>\n",
       "    </tr>\n",
       "    <tr>\n",
       "      <th>727</th>\n",
       "      <td>360.0</td>\n",
       "      <td>3096.2</td>\n",
       "      <td>ПРОСРОЧЕНО</td>\n",
       "      <td>Васильев</td>\n",
       "      <td>новая</td>\n",
       "      <td>NaN</td>\n",
       "      <td>НЕТ</td>\n",
       "      <td>NaN</td>\n",
       "    </tr>\n",
       "    <tr>\n",
       "      <th>728</th>\n",
       "      <td>373.0</td>\n",
       "      <td>4403.7</td>\n",
       "      <td>ОПЛАЧЕНО</td>\n",
       "      <td>Михайлов</td>\n",
       "      <td>новая</td>\n",
       "      <td>NaN</td>\n",
       "      <td>оригинал</td>\n",
       "      <td>2021-11-08 00:00:00</td>\n",
       "    </tr>\n",
       "    <tr>\n",
       "      <th>729</th>\n",
       "      <td>286.0</td>\n",
       "      <td>3978.7</td>\n",
       "      <td>ОПЛАЧЕНО</td>\n",
       "      <td>Филимонова</td>\n",
       "      <td>текущая</td>\n",
       "      <td>NaN</td>\n",
       "      <td>оригинал</td>\n",
       "      <td>2021-11-15 00:00:00</td>\n",
       "    </tr>\n",
       "  </tbody>\n",
       "</table>\n",
       "<p>730 rows × 8 columns</p>\n",
       "</div>"
      ],
      "text/plain": [
       "     client_id      sum      status        sale new/current  Unnamed: 5  \\\n",
       "0          NaN      NaN    Май 2021         NaN         NaN         NaN   \n",
       "1          6.0  11693.7  ВНУТРЕННИЙ           -           -         NaN   \n",
       "2         14.0   5452.7    ОПЛАЧЕНО     Петрова       новая         NaN   \n",
       "3         15.0  13991.7    ОПЛАЧЕНО      Иванов     текущая         NaN   \n",
       "4         16.0    719.7    ОПЛАЧЕНО      Иванов     текущая         NaN   \n",
       "..         ...      ...         ...         ...         ...         ...   \n",
       "725      285.0   4328.7    ОПЛАЧЕНО    Васильев     текущая         NaN   \n",
       "726      360.0   3096.2    ОПЛАЧЕНО    Васильев       новая         NaN   \n",
       "727      360.0   3096.2  ПРОСРОЧЕНО    Васильев       новая         NaN   \n",
       "728      373.0   4403.7    ОПЛАЧЕНО    Михайлов       новая         NaN   \n",
       "729      286.0   3978.7    ОПЛАЧЕНО  Филимонова     текущая         NaN   \n",
       "\n",
       "     document       receiving_date  \n",
       "0         NaN                  NaN  \n",
       "1           -                    -  \n",
       "2    оригинал  2021-07-26 00:00:00  \n",
       "3    оригинал  2021-06-08 00:00:00  \n",
       "4    оригинал  2021-06-08 00:00:00  \n",
       "..        ...                  ...  \n",
       "725  оригинал  2021-11-15 00:00:00  \n",
       "726       НЕТ                  NaN  \n",
       "727       НЕТ                  NaN  \n",
       "728  оригинал  2021-11-08 00:00:00  \n",
       "729  оригинал  2021-11-15 00:00:00  \n",
       "\n",
       "[730 rows x 8 columns]"
      ]
     },
     "execution_count": 3,
     "metadata": {},
     "output_type": "execute_result"
    }
   ],
   "source": [
    "df"
   ]
  },
  {
   "cell_type": "code",
   "execution_count": 4,
   "id": "871b20fa",
   "metadata": {
    "scrolled": true
   },
   "outputs": [
    {
     "name": "stdout",
     "output_type": "stream",
     "text": [
      "<class 'pandas.core.frame.DataFrame'>\n",
      "RangeIndex: 730 entries, 0 to 729\n",
      "Data columns (total 8 columns):\n",
      " #   Column          Non-Null Count  Dtype  \n",
      "---  ------          --------------  -----  \n",
      " 0   client_id       724 non-null    float64\n",
      " 1   sum             724 non-null    float64\n",
      " 2   status          730 non-null    object \n",
      " 3   sale            724 non-null    object \n",
      " 4   new/current     724 non-null    object \n",
      " 5   Unnamed: 5      0 non-null      float64\n",
      " 6   document        709 non-null    object \n",
      " 7   receiving_date  607 non-null    object \n",
      "dtypes: float64(3), object(5)\n",
      "memory usage: 45.8+ KB\n"
     ]
    }
   ],
   "source": [
    "df.info()"
   ]
  },
  {
   "cell_type": "markdown",
   "id": "9fa30e71",
   "metadata": {},
   "source": [
    "В наших данных пустой столбец, удалим его."
   ]
  },
  {
   "cell_type": "code",
   "execution_count": 5,
   "id": "026ff673",
   "metadata": {},
   "outputs": [],
   "source": [
    "df = df.drop('Unnamed: 5', axis= 1)"
   ]
  },
  {
   "cell_type": "markdown",
   "id": "650e3966",
   "metadata": {},
   "source": [
    "Проверим на дубликаты"
   ]
  },
  {
   "cell_type": "code",
   "execution_count": 6,
   "id": "b66aa439",
   "metadata": {
    "scrolled": true
   },
   "outputs": [
    {
     "data": {
      "text/plain": [
       "33"
      ]
     },
     "execution_count": 6,
     "metadata": {},
     "output_type": "execute_result"
    }
   ],
   "source": [
    "df.duplicated().sum()"
   ]
  },
  {
   "cell_type": "markdown",
   "id": "2763c634",
   "metadata": {},
   "source": [
    "Удалим наши дубликаты"
   ]
  },
  {
   "cell_type": "code",
   "execution_count": 7,
   "id": "eb1569eb",
   "metadata": {},
   "outputs": [],
   "source": [
    "df = df.drop_duplicates().reset_index(drop=True)"
   ]
  },
  {
   "cell_type": "markdown",
   "id": "289b02d9",
   "metadata": {},
   "source": [
    "Проверим уникальные значения в столбце `status`"
   ]
  },
  {
   "cell_type": "code",
   "execution_count": 8,
   "id": "49f41ce9",
   "metadata": {},
   "outputs": [
    {
     "data": {
      "text/plain": [
       "array(['Май 2021', 'ВНУТРЕННИЙ', 'ОПЛАЧЕНО', 'ПРОСРОЧЕНО', 'Июнь 2021',\n",
       "       'Июль 2021', 'Август 2021', 'В РАБОТЕ', 'Сентябрь 2021',\n",
       "       'Октябрь 2021', 'НА ПОДПИСАНИИ'], dtype=object)"
      ]
     },
     "execution_count": 8,
     "metadata": {},
     "output_type": "execute_result"
    }
   ],
   "source": [
    "df['status'].unique()"
   ]
  },
  {
   "cell_type": "markdown",
   "id": "105e04ea",
   "metadata": {},
   "source": [
    "Создадим подвыборки для каждого месяца, а также столбце `status` есть внутренний договор, его использовать мы не будем"
   ]
  },
  {
   "cell_type": "code",
   "execution_count": 9,
   "id": "abe8b8a4",
   "metadata": {},
   "outputs": [],
   "source": [
    "october = df.status[df.status == 'Октябрь 2021'].index[0]\n",
    "september = df.status[df.status == 'Сентябрь 2021'].index[0]\n",
    "august = df.status[df.status == 'Август 2021'].index[0]\n",
    "july = df.status[df.status == 'Июль 2021'].index[0]\n",
    "june = df.status[df.status == 'Июнь 2021'].index[0]\n",
    "may = df.status[df.status == 'Май 2021'].index[0]"
   ]
  },
  {
   "cell_type": "code",
   "execution_count": 10,
   "id": "16b853b9",
   "metadata": {},
   "outputs": [],
   "source": [
    "october_frame = df.iloc[october+1:].copy()\n",
    "september_frame = df.iloc[september + 1 : october].copy()\n",
    "august_frame =  df.iloc[august + 1 : september].copy()\n",
    "july_frame = df.iloc[july + 1 : august].copy()\n",
    "june_frame = df.iloc[june + 1 : july].copy()\n",
    "may_frame = df.iloc[may + 2: june].copy()"
   ]
  },
  {
   "cell_type": "markdown",
   "id": "934365ae",
   "metadata": {},
   "source": [
    "## Вопросы"
   ]
  },
  {
   "cell_type": "markdown",
   "id": "69ac3c5c",
   "metadata": {},
   "source": [
    "1) Вычислите общую выручку за июль 2021 по тем сделкам, приход денежных\n",
    "средств которых не просрочен.\n",
    "2) Как изменялась выручка компании за рассматриваемый период?\n",
    "Проиллюстрируйте графиком.\n",
    "3) Кто из менеджеров привлек для компании больше всего денежных средств в\n",
    "сентябре 2021?\n",
    "4) Какой тип сделок (новая/текущая) был преобладающим в октябре 2021?\n",
    "5) Сколько оригиналов договора по майским сделкам было получено в июне 2021?"
   ]
  },
  {
   "cell_type": "markdown",
   "id": "764df529",
   "metadata": {},
   "source": [
    "### Вопрос 1"
   ]
  },
  {
   "cell_type": "markdown",
   "id": "4baef6dd",
   "metadata": {},
   "source": [
    "Рассмотрим месяц июль"
   ]
  },
  {
   "cell_type": "code",
   "execution_count": 11,
   "id": "a1ac6753",
   "metadata": {
    "scrolled": true
   },
   "outputs": [
    {
     "data": {
      "text/html": [
       "<div>\n",
       "<style scoped>\n",
       "    .dataframe tbody tr th:only-of-type {\n",
       "        vertical-align: middle;\n",
       "    }\n",
       "\n",
       "    .dataframe tbody tr th {\n",
       "        vertical-align: top;\n",
       "    }\n",
       "\n",
       "    .dataframe thead th {\n",
       "        text-align: right;\n",
       "    }\n",
       "</style>\n",
       "<table border=\"1\" class=\"dataframe\">\n",
       "  <thead>\n",
       "    <tr style=\"text-align: right;\">\n",
       "      <th></th>\n",
       "      <th>client_id</th>\n",
       "      <th>sum</th>\n",
       "      <th>status</th>\n",
       "      <th>sale</th>\n",
       "      <th>new/current</th>\n",
       "      <th>document</th>\n",
       "      <th>receiving_date</th>\n",
       "    </tr>\n",
       "  </thead>\n",
       "  <tbody>\n",
       "    <tr>\n",
       "      <th>249</th>\n",
       "      <td>15.0</td>\n",
       "      <td>13838.7</td>\n",
       "      <td>ОПЛАЧЕНО</td>\n",
       "      <td>Иванов</td>\n",
       "      <td>текущая</td>\n",
       "      <td>оригинал</td>\n",
       "      <td>2021-08-09 00:00:00</td>\n",
       "    </tr>\n",
       "    <tr>\n",
       "      <th>250</th>\n",
       "      <td>16.0</td>\n",
       "      <td>1586.5</td>\n",
       "      <td>ОПЛАЧЕНО</td>\n",
       "      <td>Иванов</td>\n",
       "      <td>текущая</td>\n",
       "      <td>оригинал</td>\n",
       "      <td>2021-08-09 00:00:00</td>\n",
       "    </tr>\n",
       "    <tr>\n",
       "      <th>251</th>\n",
       "      <td>18.0</td>\n",
       "      <td>2996.7</td>\n",
       "      <td>ОПЛАЧЕНО</td>\n",
       "      <td>Иванов</td>\n",
       "      <td>текущая</td>\n",
       "      <td>НЕТ</td>\n",
       "      <td>NaN</td>\n",
       "    </tr>\n",
       "    <tr>\n",
       "      <th>252</th>\n",
       "      <td>21.0</td>\n",
       "      <td>4313.7</td>\n",
       "      <td>ОПЛАЧЕНО</td>\n",
       "      <td>Кузнецова</td>\n",
       "      <td>текущая</td>\n",
       "      <td>оригинал</td>\n",
       "      <td>2021-09-17 00:00:00</td>\n",
       "    </tr>\n",
       "    <tr>\n",
       "      <th>253</th>\n",
       "      <td>24.0</td>\n",
       "      <td>19407.7</td>\n",
       "      <td>ОПЛАЧЕНО</td>\n",
       "      <td>Андреев</td>\n",
       "      <td>текущая</td>\n",
       "      <td>оригинал</td>\n",
       "      <td>2021-08-19 00:00:00</td>\n",
       "    </tr>\n",
       "  </tbody>\n",
       "</table>\n",
       "</div>"
      ],
      "text/plain": [
       "     client_id      sum    status       sale new/current  document  \\\n",
       "249       15.0  13838.7  ОПЛАЧЕНО     Иванов     текущая  оригинал   \n",
       "250       16.0   1586.5  ОПЛАЧЕНО     Иванов     текущая  оригинал   \n",
       "251       18.0   2996.7  ОПЛАЧЕНО     Иванов     текущая       НЕТ   \n",
       "252       21.0   4313.7  ОПЛАЧЕНО  Кузнецова     текущая  оригинал   \n",
       "253       24.0  19407.7  ОПЛАЧЕНО    Андреев     текущая  оригинал   \n",
       "\n",
       "          receiving_date  \n",
       "249  2021-08-09 00:00:00  \n",
       "250  2021-08-09 00:00:00  \n",
       "251                  NaN  \n",
       "252  2021-09-17 00:00:00  \n",
       "253  2021-08-19 00:00:00  "
      ]
     },
     "execution_count": 11,
     "metadata": {},
     "output_type": "execute_result"
    }
   ],
   "source": [
    "july_frame.head()"
   ]
  },
  {
   "cell_type": "markdown",
   "id": "36d932b4",
   "metadata": {},
   "source": [
    "Рассмотрим информацию"
   ]
  },
  {
   "cell_type": "code",
   "execution_count": 12,
   "id": "982df308",
   "metadata": {
    "scrolled": false
   },
   "outputs": [
    {
     "name": "stdout",
     "output_type": "stream",
     "text": [
      "<class 'pandas.core.frame.DataFrame'>\n",
      "RangeIndex: 101 entries, 249 to 349\n",
      "Data columns (total 7 columns):\n",
      " #   Column          Non-Null Count  Dtype  \n",
      "---  ------          --------------  -----  \n",
      " 0   client_id       101 non-null    float64\n",
      " 1   sum             101 non-null    float64\n",
      " 2   status          101 non-null    object \n",
      " 3   sale            101 non-null    object \n",
      " 4   new/current     101 non-null    object \n",
      " 5   document        100 non-null    object \n",
      " 6   receiving_date  99 non-null     object \n",
      "dtypes: float64(2), object(5)\n",
      "memory usage: 5.7+ KB\n"
     ]
    }
   ],
   "source": [
    "july_frame.info()"
   ]
  },
  {
   "cell_type": "markdown",
   "id": "779e77d7",
   "metadata": {},
   "source": [
    "Также в двух столбцах есть пропуски, обработаем их"
   ]
  },
  {
   "cell_type": "code",
   "execution_count": 13,
   "id": "629fcebb",
   "metadata": {
    "scrolled": true
   },
   "outputs": [
    {
     "data": {
      "text/html": [
       "<div>\n",
       "<style scoped>\n",
       "    .dataframe tbody tr th:only-of-type {\n",
       "        vertical-align: middle;\n",
       "    }\n",
       "\n",
       "    .dataframe tbody tr th {\n",
       "        vertical-align: top;\n",
       "    }\n",
       "\n",
       "    .dataframe thead th {\n",
       "        text-align: right;\n",
       "    }\n",
       "</style>\n",
       "<table border=\"1\" class=\"dataframe\">\n",
       "  <thead>\n",
       "    <tr style=\"text-align: right;\">\n",
       "      <th></th>\n",
       "      <th>client_id</th>\n",
       "      <th>sum</th>\n",
       "      <th>status</th>\n",
       "      <th>sale</th>\n",
       "      <th>new/current</th>\n",
       "      <th>document</th>\n",
       "      <th>receiving_date</th>\n",
       "    </tr>\n",
       "  </thead>\n",
       "  <tbody>\n",
       "    <tr>\n",
       "      <th>251</th>\n",
       "      <td>18.0</td>\n",
       "      <td>2996.7</td>\n",
       "      <td>ОПЛАЧЕНО</td>\n",
       "      <td>Иванов</td>\n",
       "      <td>текущая</td>\n",
       "      <td>НЕТ</td>\n",
       "      <td>NaN</td>\n",
       "    </tr>\n",
       "    <tr>\n",
       "      <th>321</th>\n",
       "      <td>228.0</td>\n",
       "      <td>2193.7</td>\n",
       "      <td>ОПЛАЧЕНО</td>\n",
       "      <td>Смирнов</td>\n",
       "      <td>текущая</td>\n",
       "      <td>NaN</td>\n",
       "      <td>2021-10-06 00:00:00</td>\n",
       "    </tr>\n",
       "    <tr>\n",
       "      <th>347</th>\n",
       "      <td>284.0</td>\n",
       "      <td>1977.7</td>\n",
       "      <td>ПРОСРОЧЕНО</td>\n",
       "      <td>Филимонова</td>\n",
       "      <td>текущая</td>\n",
       "      <td>НЕТ</td>\n",
       "      <td>NaN</td>\n",
       "    </tr>\n",
       "  </tbody>\n",
       "</table>\n",
       "</div>"
      ],
      "text/plain": [
       "     client_id     sum      status        sale new/current document  \\\n",
       "251       18.0  2996.7    ОПЛАЧЕНО      Иванов     текущая      НЕТ   \n",
       "321      228.0  2193.7    ОПЛАЧЕНО     Смирнов     текущая      NaN   \n",
       "347      284.0  1977.7  ПРОСРОЧЕНО  Филимонова     текущая      НЕТ   \n",
       "\n",
       "          receiving_date  \n",
       "251                  NaN  \n",
       "321  2021-10-06 00:00:00  \n",
       "347                  NaN  "
      ]
     },
     "execution_count": 13,
     "metadata": {},
     "output_type": "execute_result"
    }
   ],
   "source": [
    "july_frame[july_frame.isnull().values.any(axis=1)]"
   ]
  },
  {
   "cell_type": "markdown",
   "id": "827362bd",
   "metadata": {},
   "source": [
    "- В 3 строках столбца `receiving_date` есть пропуски, связано это с отсутствием оригинала документа, их обрабатывать мы не будем\n",
    "- В 1 строке столбца `document` есть пропуск. Пропуск случайный, так как дата подачи оригинала записана, поменяем значение на **оригинал**"
   ]
  },
  {
   "cell_type": "code",
   "execution_count": 14,
   "id": "ea5d7493",
   "metadata": {},
   "outputs": [],
   "source": [
    "july_frame['document'] = july_frame['document'].fillna('оригинал')"
   ]
  },
  {
   "cell_type": "code",
   "execution_count": 15,
   "id": "94218631",
   "metadata": {
    "scrolled": true
   },
   "outputs": [
    {
     "name": "stdout",
     "output_type": "stream",
     "text": [
      "<class 'pandas.core.frame.DataFrame'>\n",
      "RangeIndex: 101 entries, 249 to 349\n",
      "Data columns (total 7 columns):\n",
      " #   Column          Non-Null Count  Dtype  \n",
      "---  ------          --------------  -----  \n",
      " 0   client_id       101 non-null    float64\n",
      " 1   sum             101 non-null    float64\n",
      " 2   status          101 non-null    object \n",
      " 3   sale            101 non-null    object \n",
      " 4   new/current     101 non-null    object \n",
      " 5   document        101 non-null    object \n",
      " 6   receiving_date  99 non-null     object \n",
      "dtypes: float64(2), object(5)\n",
      "memory usage: 5.7+ KB\n"
     ]
    }
   ],
   "source": [
    "july_frame.info()"
   ]
  },
  {
   "cell_type": "markdown",
   "id": "de28cb89",
   "metadata": {},
   "source": [
    "Пропуск обработан"
   ]
  },
  {
   "cell_type": "markdown",
   "id": "e166c02e",
   "metadata": {},
   "source": [
    "Вычислим общую выручку за июль, по тем сделкам, приход денежных средств которых не просрочен"
   ]
  },
  {
   "cell_type": "code",
   "execution_count": 16,
   "id": "61185280",
   "metadata": {},
   "outputs": [],
   "source": [
    "total_revenue = july_frame[july_frame['status'] != 'ПРОСРОЧЕНО']['sum'].sum()"
   ]
  },
  {
   "cell_type": "code",
   "execution_count": 17,
   "id": "192d6125",
   "metadata": {},
   "outputs": [
    {
     "data": {
      "text/plain": [
       "826622.6699999997"
      ]
     },
     "execution_count": 17,
     "metadata": {},
     "output_type": "execute_result"
    }
   ],
   "source": [
    "total_revenue"
   ]
  },
  {
   "cell_type": "markdown",
   "id": "c1700181",
   "metadata": {},
   "source": [
    "**Вывод**\n",
    "\n",
    "Общая выручка за июль 2021 без учета просроченных составляет - **826622.6699999997**"
   ]
  },
  {
   "cell_type": "markdown",
   "id": "42e023e3",
   "metadata": {},
   "source": [
    "### Вопрос 2"
   ]
  },
  {
   "cell_type": "markdown",
   "id": "9e9bc599",
   "metadata": {},
   "source": [
    "Построим график за июль"
   ]
  },
  {
   "cell_type": "code",
   "execution_count": 18,
   "id": "3707f612",
   "metadata": {
    "scrolled": true
   },
   "outputs": [
    {
     "data": {
      "image/png": "[encoded data removed]",
      "text/plain": [
       "<Figure size 640x480 with 1 Axes>"
      ]
     },
     "metadata": {},
     "output_type": "display_data"
    }
   ],
   "source": [
    "july_frame['sum'].plot(title='Изменение выручки за июль 2021');"
   ]
  },
  {
   "cell_type": "markdown",
   "id": "d6ef5822",
   "metadata": {},
   "source": [
    "**Вывод**\n",
    "\n",
    "- Ближе к середине июля был пик по выручке\n",
    "- После пика был сильный упадок и постепенный рост"
   ]
  },
  {
   "cell_type": "markdown",
   "id": "9147a355",
   "metadata": {},
   "source": [
    "### Вопрос 3"
   ]
  },
  {
   "cell_type": "markdown",
   "id": "2e93b6b7",
   "metadata": {},
   "source": [
    "Рассмотрим сентябрь"
   ]
  },
  {
   "cell_type": "code",
   "execution_count": 19,
   "id": "58272cff",
   "metadata": {
    "scrolled": true
   },
   "outputs": [
    {
     "data": {
      "text/html": [
       "<div>\n",
       "<style scoped>\n",
       "    .dataframe tbody tr th:only-of-type {\n",
       "        vertical-align: middle;\n",
       "    }\n",
       "\n",
       "    .dataframe tbody tr th {\n",
       "        vertical-align: top;\n",
       "    }\n",
       "\n",
       "    .dataframe thead th {\n",
       "        text-align: right;\n",
       "    }\n",
       "</style>\n",
       "<table border=\"1\" class=\"dataframe\">\n",
       "  <thead>\n",
       "    <tr style=\"text-align: right;\">\n",
       "      <th></th>\n",
       "      <th>client_id</th>\n",
       "      <th>sum</th>\n",
       "      <th>status</th>\n",
       "      <th>sale</th>\n",
       "      <th>new/current</th>\n",
       "      <th>document</th>\n",
       "      <th>receiving_date</th>\n",
       "    </tr>\n",
       "  </thead>\n",
       "  <tbody>\n",
       "    <tr>\n",
       "      <th>462</th>\n",
       "      <td>15.0</td>\n",
       "      <td>14288.7</td>\n",
       "      <td>ОПЛАЧЕНО</td>\n",
       "      <td>Иванов</td>\n",
       "      <td>текущая</td>\n",
       "      <td>оригинал</td>\n",
       "      <td>2021-10-08 00:00:00</td>\n",
       "    </tr>\n",
       "    <tr>\n",
       "      <th>463</th>\n",
       "      <td>16.0</td>\n",
       "      <td>1494.0</td>\n",
       "      <td>ОПЛАЧЕНО</td>\n",
       "      <td>Иванов</td>\n",
       "      <td>текущая</td>\n",
       "      <td>оригинал</td>\n",
       "      <td>2021-10-08 00:00:00</td>\n",
       "    </tr>\n",
       "    <tr>\n",
       "      <th>464</th>\n",
       "      <td>21.0</td>\n",
       "      <td>893.7</td>\n",
       "      <td>ОПЛАЧЕНО</td>\n",
       "      <td>Кузнецова</td>\n",
       "      <td>текущая</td>\n",
       "      <td>оригинал</td>\n",
       "      <td>2021-10-20 00:00:00</td>\n",
       "    </tr>\n",
       "    <tr>\n",
       "      <th>465</th>\n",
       "      <td>24.0</td>\n",
       "      <td>18142.7</td>\n",
       "      <td>ОПЛАЧЕНО</td>\n",
       "      <td>Андреев</td>\n",
       "      <td>текущая</td>\n",
       "      <td>NaN</td>\n",
       "      <td>2021-10-15 00:00:00</td>\n",
       "    </tr>\n",
       "    <tr>\n",
       "      <th>466</th>\n",
       "      <td>30.0</td>\n",
       "      <td>3833.7</td>\n",
       "      <td>В РАБОТЕ</td>\n",
       "      <td>Филимонова</td>\n",
       "      <td>текущая</td>\n",
       "      <td>NaN</td>\n",
       "      <td>NaN</td>\n",
       "    </tr>\n",
       "    <tr>\n",
       "      <th>...</th>\n",
       "      <td>...</td>\n",
       "      <td>...</td>\n",
       "      <td>...</td>\n",
       "      <td>...</td>\n",
       "      <td>...</td>\n",
       "      <td>...</td>\n",
       "      <td>...</td>\n",
       "    </tr>\n",
       "    <tr>\n",
       "      <th>561</th>\n",
       "      <td>304.0</td>\n",
       "      <td>1313.7</td>\n",
       "      <td>ОПЛАЧЕНО</td>\n",
       "      <td>Андреев</td>\n",
       "      <td>текущая</td>\n",
       "      <td>оригинал</td>\n",
       "      <td>2021-10-13 00:00:00</td>\n",
       "    </tr>\n",
       "    <tr>\n",
       "      <th>562</th>\n",
       "      <td>285.0</td>\n",
       "      <td>3453.7</td>\n",
       "      <td>ОПЛАЧЕНО</td>\n",
       "      <td>Васильев</td>\n",
       "      <td>текущая</td>\n",
       "      <td>оригинал</td>\n",
       "      <td>2021-10-05 00:00:00</td>\n",
       "    </tr>\n",
       "    <tr>\n",
       "      <th>563</th>\n",
       "      <td>285.0</td>\n",
       "      <td>4328.7</td>\n",
       "      <td>ОПЛАЧЕНО</td>\n",
       "      <td>Васильев</td>\n",
       "      <td>новая</td>\n",
       "      <td>оригинал</td>\n",
       "      <td>2021-10-05 00:00:00</td>\n",
       "    </tr>\n",
       "    <tr>\n",
       "      <th>564</th>\n",
       "      <td>286.0</td>\n",
       "      <td>4078.7</td>\n",
       "      <td>ОПЛАЧЕНО</td>\n",
       "      <td>Филимонова</td>\n",
       "      <td>текущая</td>\n",
       "      <td>оригинал</td>\n",
       "      <td>2021-10-20 00:00:00</td>\n",
       "    </tr>\n",
       "    <tr>\n",
       "      <th>565</th>\n",
       "      <td>287.0</td>\n",
       "      <td>6488.7</td>\n",
       "      <td>ОПЛАЧЕНО</td>\n",
       "      <td>Филимонова</td>\n",
       "      <td>текущая</td>\n",
       "      <td>оригинал</td>\n",
       "      <td>2021-10-13 00:00:00</td>\n",
       "    </tr>\n",
       "  </tbody>\n",
       "</table>\n",
       "<p>104 rows × 7 columns</p>\n",
       "</div>"
      ],
      "text/plain": [
       "     client_id      sum    status        sale new/current  document  \\\n",
       "462       15.0  14288.7  ОПЛАЧЕНО      Иванов     текущая  оригинал   \n",
       "463       16.0   1494.0  ОПЛАЧЕНО      Иванов     текущая  оригинал   \n",
       "464       21.0    893.7  ОПЛАЧЕНО   Кузнецова     текущая  оригинал   \n",
       "465       24.0  18142.7  ОПЛАЧЕНО     Андреев     текущая       NaN   \n",
       "466       30.0   3833.7  В РАБОТЕ  Филимонова     текущая       NaN   \n",
       "..         ...      ...       ...         ...         ...       ...   \n",
       "561      304.0   1313.7  ОПЛАЧЕНО     Андреев     текущая  оригинал   \n",
       "562      285.0   3453.7  ОПЛАЧЕНО    Васильев     текущая  оригинал   \n",
       "563      285.0   4328.7  ОПЛАЧЕНО    Васильев       новая  оригинал   \n",
       "564      286.0   4078.7  ОПЛАЧЕНО  Филимонова     текущая  оригинал   \n",
       "565      287.0   6488.7  ОПЛАЧЕНО  Филимонова     текущая  оригинал   \n",
       "\n",
       "          receiving_date  \n",
       "462  2021-10-08 00:00:00  \n",
       "463  2021-10-08 00:00:00  \n",
       "464  2021-10-20 00:00:00  \n",
       "465  2021-10-15 00:00:00  \n",
       "466                  NaN  \n",
       "..                   ...  \n",
       "561  2021-10-13 00:00:00  \n",
       "562  2021-10-05 00:00:00  \n",
       "563  2021-10-05 00:00:00  \n",
       "564  2021-10-20 00:00:00  \n",
       "565  2021-10-13 00:00:00  \n",
       "\n",
       "[104 rows x 7 columns]"
      ]
     },
     "execution_count": 19,
     "metadata": {},
     "output_type": "execute_result"
    }
   ],
   "source": [
    "september_frame"
   ]
  },
  {
   "cell_type": "code",
   "execution_count": 20,
   "id": "c7aaa416",
   "metadata": {
    "scrolled": false
   },
   "outputs": [
    {
     "name": "stdout",
     "output_type": "stream",
     "text": [
      "<class 'pandas.core.frame.DataFrame'>\n",
      "RangeIndex: 104 entries, 462 to 565\n",
      "Data columns (total 7 columns):\n",
      " #   Column          Non-Null Count  Dtype  \n",
      "---  ------          --------------  -----  \n",
      " 0   client_id       104 non-null    float64\n",
      " 1   sum             104 non-null    float64\n",
      " 2   status          104 non-null    object \n",
      " 3   sale            104 non-null    object \n",
      " 4   new/current     104 non-null    object \n",
      " 5   document        101 non-null    object \n",
      " 6   receiving_date  88 non-null     object \n",
      "dtypes: float64(2), object(5)\n",
      "memory usage: 5.8+ KB\n"
     ]
    }
   ],
   "source": [
    "september_frame.info()"
   ]
  },
  {
   "cell_type": "markdown",
   "id": "a34a0a2d",
   "metadata": {},
   "source": [
    "Пропусков в нужных нам столбцах нет"
   ]
  },
  {
   "cell_type": "code",
   "execution_count": 21,
   "id": "d5d156bd",
   "metadata": {
    "scrolled": true
   },
   "outputs": [
    {
     "data": {
      "text/plain": [
       "sale\n",
       "Андреев       129977.60\n",
       "Васильев       45416.75\n",
       "Иванов         94476.90\n",
       "Кузнецова      72228.40\n",
       "Михайлов        4268.70\n",
       "Петрова        94830.46\n",
       "Смирнов       195817.20\n",
       "Соколов        35183.50\n",
       "Филимонова     39020.80\n",
       "Name: sum, dtype: float64"
      ]
     },
     "execution_count": 21,
     "metadata": {},
     "output_type": "execute_result"
    }
   ],
   "source": [
    "september_frame[september_frame['status'] == 'ОПЛАЧЕНО'].groupby('sale')['sum'].agg('sum')"
   ]
  },
  {
   "cell_type": "markdown",
   "id": "401c34a8",
   "metadata": {},
   "source": [
    "**Вывод** \n",
    "\n",
    "Больше всего денежных средств в сентябре 2021 привлёк - **Смирнов**."
   ]
  },
  {
   "cell_type": "markdown",
   "id": "2bed522c",
   "metadata": {},
   "source": [
    "### Вопрос 4"
   ]
  },
  {
   "cell_type": "code",
   "execution_count": 22,
   "id": "2f311237",
   "metadata": {},
   "outputs": [
    {
     "data": {
      "text/plain": [
       "текущая    95\n",
       "новая      35\n",
       "Name: new/current, dtype: int64"
      ]
     },
     "execution_count": 22,
     "metadata": {},
     "output_type": "execute_result"
    }
   ],
   "source": [
    "october_frame['new/current'].value_counts()"
   ]
  },
  {
   "cell_type": "code",
   "execution_count": 23,
   "id": "490814a9",
   "metadata": {
    "scrolled": true
   },
   "outputs": [
    {
     "data": {
      "image/png": "[encoded data removed]",
      "text/plain": [
       "<Figure size 350x350 with 1 Axes>"
      ]
     },
     "metadata": {},
     "output_type": "display_data"
    }
   ],
   "source": [
    "plt.title('Типы сделок')\n",
    "october_frame['new/current'].hist(figsize = (3.5,3.5));"
   ]
  },
  {
   "cell_type": "code",
   "execution_count": 24,
   "id": "b959603d",
   "metadata": {},
   "outputs": [
    {
     "data": {
      "text/plain": [
       "130"
      ]
     },
     "execution_count": 24,
     "metadata": {},
     "output_type": "execute_result"
    }
   ],
   "source": [
    "october_frame['new/current'].value_counts().sum()"
   ]
  },
  {
   "cell_type": "markdown",
   "id": "3770e3e6",
   "metadata": {},
   "source": [
    "**Вывод**\n",
    "\n",
    "- В октябре 2021 было 130 сделок: 95-текущих, 35-новых.\n",
    "- Преобладающий тип сделок - **текущий**."
   ]
  },
  {
   "cell_type": "markdown",
   "id": "0b750b02",
   "metadata": {},
   "source": [
    "### Вопрос 5"
   ]
  },
  {
   "cell_type": "markdown",
   "id": "0e8bd4e0",
   "metadata": {},
   "source": [
    "Рассмотрим май"
   ]
  },
  {
   "cell_type": "code",
   "execution_count": 25,
   "id": "c2211b0e",
   "metadata": {
    "scrolled": true
   },
   "outputs": [
    {
     "data": {
      "text/html": [
       "<div>\n",
       "<style scoped>\n",
       "    .dataframe tbody tr th:only-of-type {\n",
       "        vertical-align: middle;\n",
       "    }\n",
       "\n",
       "    .dataframe tbody tr th {\n",
       "        vertical-align: top;\n",
       "    }\n",
       "\n",
       "    .dataframe thead th {\n",
       "        text-align: right;\n",
       "    }\n",
       "</style>\n",
       "<table border=\"1\" class=\"dataframe\">\n",
       "  <thead>\n",
       "    <tr style=\"text-align: right;\">\n",
       "      <th></th>\n",
       "      <th>client_id</th>\n",
       "      <th>sum</th>\n",
       "      <th>status</th>\n",
       "      <th>sale</th>\n",
       "      <th>new/current</th>\n",
       "      <th>document</th>\n",
       "      <th>receiving_date</th>\n",
       "    </tr>\n",
       "  </thead>\n",
       "  <tbody>\n",
       "    <tr>\n",
       "      <th>2</th>\n",
       "      <td>14.0</td>\n",
       "      <td>5452.7</td>\n",
       "      <td>ОПЛАЧЕНО</td>\n",
       "      <td>Петрова</td>\n",
       "      <td>новая</td>\n",
       "      <td>оригинал</td>\n",
       "      <td>2021-07-26 00:00:00</td>\n",
       "    </tr>\n",
       "    <tr>\n",
       "      <th>3</th>\n",
       "      <td>15.0</td>\n",
       "      <td>13991.7</td>\n",
       "      <td>ОПЛАЧЕНО</td>\n",
       "      <td>Иванов</td>\n",
       "      <td>текущая</td>\n",
       "      <td>оригинал</td>\n",
       "      <td>2021-06-08 00:00:00</td>\n",
       "    </tr>\n",
       "    <tr>\n",
       "      <th>4</th>\n",
       "      <td>16.0</td>\n",
       "      <td>719.7</td>\n",
       "      <td>ОПЛАЧЕНО</td>\n",
       "      <td>Иванов</td>\n",
       "      <td>текущая</td>\n",
       "      <td>оригинал</td>\n",
       "      <td>2021-06-08 00:00:00</td>\n",
       "    </tr>\n",
       "    <tr>\n",
       "      <th>5</th>\n",
       "      <td>18.0</td>\n",
       "      <td>4253.7</td>\n",
       "      <td>ОПЛАЧЕНО</td>\n",
       "      <td>Иванов</td>\n",
       "      <td>текущая</td>\n",
       "      <td>оригинал</td>\n",
       "      <td>2021-07-07 00:00:00</td>\n",
       "    </tr>\n",
       "    <tr>\n",
       "      <th>6</th>\n",
       "      <td>20.0</td>\n",
       "      <td>5796.7</td>\n",
       "      <td>ОПЛАЧЕНО</td>\n",
       "      <td>Кузнецова</td>\n",
       "      <td>текущая</td>\n",
       "      <td>оригинал</td>\n",
       "      <td>2021-07-15 00:00:00</td>\n",
       "    </tr>\n",
       "  </tbody>\n",
       "</table>\n",
       "</div>"
      ],
      "text/plain": [
       "   client_id      sum    status       sale new/current  document  \\\n",
       "2       14.0   5452.7  ОПЛАЧЕНО    Петрова       новая  оригинал   \n",
       "3       15.0  13991.7  ОПЛАЧЕНО     Иванов     текущая  оригинал   \n",
       "4       16.0    719.7  ОПЛАЧЕНО     Иванов     текущая  оригинал   \n",
       "5       18.0   4253.7  ОПЛАЧЕНО     Иванов     текущая  оригинал   \n",
       "6       20.0   5796.7  ОПЛАЧЕНО  Кузнецова     текущая  оригинал   \n",
       "\n",
       "        receiving_date  \n",
       "2  2021-07-26 00:00:00  \n",
       "3  2021-06-08 00:00:00  \n",
       "4  2021-06-08 00:00:00  \n",
       "5  2021-07-07 00:00:00  \n",
       "6  2021-07-15 00:00:00  "
      ]
     },
     "execution_count": 25,
     "metadata": {},
     "output_type": "execute_result"
    }
   ],
   "source": [
    "may_frame.head()"
   ]
  },
  {
   "cell_type": "code",
   "execution_count": 26,
   "id": "ff07c51e",
   "metadata": {
    "scrolled": true
   },
   "outputs": [
    {
     "name": "stdout",
     "output_type": "stream",
     "text": [
      "<class 'pandas.core.frame.DataFrame'>\n",
      "RangeIndex: 124 entries, 2 to 125\n",
      "Data columns (total 7 columns):\n",
      " #   Column          Non-Null Count  Dtype  \n",
      "---  ------          --------------  -----  \n",
      " 0   client_id       124 non-null    float64\n",
      " 1   sum             124 non-null    float64\n",
      " 2   status          124 non-null    object \n",
      " 3   sale            124 non-null    object \n",
      " 4   new/current     124 non-null    object \n",
      " 5   document        120 non-null    object \n",
      " 6   receiving_date  124 non-null    object \n",
      "dtypes: float64(2), object(5)\n",
      "memory usage: 6.9+ KB\n"
     ]
    }
   ],
   "source": [
    "may_frame.info()"
   ]
  },
  {
   "cell_type": "markdown",
   "id": "c212af9a",
   "metadata": {},
   "source": [
    "- Есть пропуски в столбце `document`, обработаем их\n",
    "- Столбец `receiving_date` имеет тип `object`, для удобной работы поменяем тип на `datetime`"
   ]
  },
  {
   "cell_type": "code",
   "execution_count": 27,
   "id": "6245dee0",
   "metadata": {
    "scrolled": true
   },
   "outputs": [
    {
     "data": {
      "text/html": [
       "<div>\n",
       "<style scoped>\n",
       "    .dataframe tbody tr th:only-of-type {\n",
       "        vertical-align: middle;\n",
       "    }\n",
       "\n",
       "    .dataframe tbody tr th {\n",
       "        vertical-align: top;\n",
       "    }\n",
       "\n",
       "    .dataframe thead th {\n",
       "        text-align: right;\n",
       "    }\n",
       "</style>\n",
       "<table border=\"1\" class=\"dataframe\">\n",
       "  <thead>\n",
       "    <tr style=\"text-align: right;\">\n",
       "      <th></th>\n",
       "      <th>client_id</th>\n",
       "      <th>sum</th>\n",
       "      <th>status</th>\n",
       "      <th>sale</th>\n",
       "      <th>new/current</th>\n",
       "      <th>document</th>\n",
       "      <th>receiving_date</th>\n",
       "    </tr>\n",
       "  </thead>\n",
       "  <tbody>\n",
       "    <tr>\n",
       "      <th>46</th>\n",
       "      <td>87.0</td>\n",
       "      <td>9948.7</td>\n",
       "      <td>ОПЛАЧЕНО</td>\n",
       "      <td>Смирнов</td>\n",
       "      <td>новая</td>\n",
       "      <td>NaN</td>\n",
       "      <td>2021-06-17 00:00:00</td>\n",
       "    </tr>\n",
       "    <tr>\n",
       "      <th>47</th>\n",
       "      <td>90.0</td>\n",
       "      <td>16123.7</td>\n",
       "      <td>ОПЛАЧЕНО</td>\n",
       "      <td>Смирнов</td>\n",
       "      <td>текущая</td>\n",
       "      <td>NaN</td>\n",
       "      <td>2021-07-28 00:00:00</td>\n",
       "    </tr>\n",
       "    <tr>\n",
       "      <th>48</th>\n",
       "      <td>91.0</td>\n",
       "      <td>1053.7</td>\n",
       "      <td>ОПЛАЧЕНО</td>\n",
       "      <td>Смирнов</td>\n",
       "      <td>текущая</td>\n",
       "      <td>NaN</td>\n",
       "      <td>2021-07-28 00:00:00</td>\n",
       "    </tr>\n",
       "    <tr>\n",
       "      <th>91</th>\n",
       "      <td>198.0</td>\n",
       "      <td>4458.7</td>\n",
       "      <td>ОПЛАЧЕНО</td>\n",
       "      <td>Смирнов</td>\n",
       "      <td>текущая</td>\n",
       "      <td>NaN</td>\n",
       "      <td>2021-07-01 00:00:00</td>\n",
       "    </tr>\n",
       "  </tbody>\n",
       "</table>\n",
       "</div>"
      ],
      "text/plain": [
       "    client_id      sum    status     sale new/current document  \\\n",
       "46       87.0   9948.7  ОПЛАЧЕНО  Смирнов       новая      NaN   \n",
       "47       90.0  16123.7  ОПЛАЧЕНО  Смирнов     текущая      NaN   \n",
       "48       91.0   1053.7  ОПЛАЧЕНО  Смирнов     текущая      NaN   \n",
       "91      198.0   4458.7  ОПЛАЧЕНО  Смирнов     текущая      NaN   \n",
       "\n",
       "         receiving_date  \n",
       "46  2021-06-17 00:00:00  \n",
       "47  2021-07-28 00:00:00  \n",
       "48  2021-07-28 00:00:00  \n",
       "91  2021-07-01 00:00:00  "
      ]
     },
     "execution_count": 27,
     "metadata": {},
     "output_type": "execute_result"
    }
   ],
   "source": [
    "may_frame[may_frame['document'].isnull()]"
   ]
  },
  {
   "cell_type": "markdown",
   "id": "9ad3a7f6",
   "metadata": {},
   "source": [
    "Есть дата получения оригинала, заполним пропуски"
   ]
  },
  {
   "cell_type": "code",
   "execution_count": 28,
   "id": "2b4e7822",
   "metadata": {},
   "outputs": [],
   "source": [
    "may_frame['document'] = may_frame['document'].fillna('оригинал')"
   ]
  },
  {
   "cell_type": "markdown",
   "id": "da3e8396",
   "metadata": {},
   "source": [
    "Поменяем тип данных столбца `receiving_date`"
   ]
  },
  {
   "cell_type": "code",
   "execution_count": 29,
   "id": "55995be0",
   "metadata": {
    "scrolled": true
   },
   "outputs": [],
   "source": [
    "may_frame['receiving_date'] = pd.to_datetime(may_frame['receiving_date'], format='%Y.%m.%d %H:%M:%S')"
   ]
  },
  {
   "cell_type": "code",
   "execution_count": 30,
   "id": "016345c1",
   "metadata": {
    "scrolled": true
   },
   "outputs": [
    {
     "data": {
      "text/html": [
       "<div>\n",
       "<style scoped>\n",
       "    .dataframe tbody tr th:only-of-type {\n",
       "        vertical-align: middle;\n",
       "    }\n",
       "\n",
       "    .dataframe tbody tr th {\n",
       "        vertical-align: top;\n",
       "    }\n",
       "\n",
       "    .dataframe thead th {\n",
       "        text-align: right;\n",
       "    }\n",
       "</style>\n",
       "<table border=\"1\" class=\"dataframe\">\n",
       "  <thead>\n",
       "    <tr style=\"text-align: right;\">\n",
       "      <th></th>\n",
       "      <th>client_id</th>\n",
       "      <th>sum</th>\n",
       "      <th>status</th>\n",
       "      <th>sale</th>\n",
       "      <th>new/current</th>\n",
       "      <th>document</th>\n",
       "      <th>receiving_date</th>\n",
       "    </tr>\n",
       "  </thead>\n",
       "  <tbody>\n",
       "    <tr>\n",
       "      <th>2</th>\n",
       "      <td>14.0</td>\n",
       "      <td>5452.7</td>\n",
       "      <td>ОПЛАЧЕНО</td>\n",
       "      <td>Петрова</td>\n",
       "      <td>новая</td>\n",
       "      <td>оригинал</td>\n",
       "      <td>2021-07-26</td>\n",
       "    </tr>\n",
       "    <tr>\n",
       "      <th>3</th>\n",
       "      <td>15.0</td>\n",
       "      <td>13991.7</td>\n",
       "      <td>ОПЛАЧЕНО</td>\n",
       "      <td>Иванов</td>\n",
       "      <td>текущая</td>\n",
       "      <td>оригинал</td>\n",
       "      <td>2021-06-08</td>\n",
       "    </tr>\n",
       "    <tr>\n",
       "      <th>4</th>\n",
       "      <td>16.0</td>\n",
       "      <td>719.7</td>\n",
       "      <td>ОПЛАЧЕНО</td>\n",
       "      <td>Иванов</td>\n",
       "      <td>текущая</td>\n",
       "      <td>оригинал</td>\n",
       "      <td>2021-06-08</td>\n",
       "    </tr>\n",
       "    <tr>\n",
       "      <th>5</th>\n",
       "      <td>18.0</td>\n",
       "      <td>4253.7</td>\n",
       "      <td>ОПЛАЧЕНО</td>\n",
       "      <td>Иванов</td>\n",
       "      <td>текущая</td>\n",
       "      <td>оригинал</td>\n",
       "      <td>2021-07-07</td>\n",
       "    </tr>\n",
       "    <tr>\n",
       "      <th>6</th>\n",
       "      <td>20.0</td>\n",
       "      <td>5796.7</td>\n",
       "      <td>ОПЛАЧЕНО</td>\n",
       "      <td>Кузнецова</td>\n",
       "      <td>текущая</td>\n",
       "      <td>оригинал</td>\n",
       "      <td>2021-07-15</td>\n",
       "    </tr>\n",
       "  </tbody>\n",
       "</table>\n",
       "</div>"
      ],
      "text/plain": [
       "   client_id      sum    status       sale new/current  document  \\\n",
       "2       14.0   5452.7  ОПЛАЧЕНО    Петрова       новая  оригинал   \n",
       "3       15.0  13991.7  ОПЛАЧЕНО     Иванов     текущая  оригинал   \n",
       "4       16.0    719.7  ОПЛАЧЕНО     Иванов     текущая  оригинал   \n",
       "5       18.0   4253.7  ОПЛАЧЕНО     Иванов     текущая  оригинал   \n",
       "6       20.0   5796.7  ОПЛАЧЕНО  Кузнецова     текущая  оригинал   \n",
       "\n",
       "  receiving_date  \n",
       "2     2021-07-26  \n",
       "3     2021-06-08  \n",
       "4     2021-06-08  \n",
       "5     2021-07-07  \n",
       "6     2021-07-15  "
      ]
     },
     "execution_count": 30,
     "metadata": {},
     "output_type": "execute_result"
    }
   ],
   "source": [
    "may_frame.head()"
   ]
  },
  {
   "cell_type": "code",
   "execution_count": 31,
   "id": "41bc5cdf",
   "metadata": {
    "scrolled": true
   },
   "outputs": [
    {
     "data": {
      "text/plain": [
       "77"
      ]
     },
     "execution_count": 31,
     "metadata": {},
     "output_type": "execute_result"
    }
   ],
   "source": [
    "may_frame['receiving_date'].between('2021-06-01', '2021-06-30', inclusive = 'both').sum()"
   ]
  },
  {
   "cell_type": "markdown",
   "id": "bf8c858e",
   "metadata": {},
   "source": [
    "**Вывод**\n",
    "\n",
    "В июне донесли оригинал договора за майский месяц 77 раз."
   ]
  },
  {
   "cell_type": "markdown",
   "id": "da205aa5",
   "metadata": {},
   "source": [
    "## Задание"
   ]
  },
  {
   "cell_type": "markdown",
   "id": "957155c7",
   "metadata": {},
   "source": [
    "За каждую заключенную сделку менеджер получает бонус, который рассчитывается\n",
    "следующим образом.\n",
    "1) За новые сделки менеджер получает 7 % от суммы, при условии, что статус\n",
    "оплаты «ОПЛАЧЕНО», а также имеется оригинал подписанного договора с\n",
    "клиентом (в рассматриваемом месяце).\n",
    "2) За текущие сделки менеджер получает 5 % от суммы, если она больше 10 тыс.,\n",
    "и 3 % от суммы, если меньше. При этом статус оплаты может быть любым,\n",
    "кроме «ПРОСРОЧЕНО», а также необходимо наличие оригинала подписанного\n",
    "договора с клиентом (в рассматриваемом месяце).\n",
    "\n",
    "Бонусы по сделкам, оригиналы для которых приходят позже рассматриваемого\n",
    "месяца, считаются остатком на следующий период, который выплачивается по мере\n",
    "прихода оригиналов. Вычислите остаток каждого из менеджеров на 01.07.2021."
   ]
  },
  {
   "cell_type": "markdown",
   "id": "ce3cfd46",
   "metadata": {},
   "source": [
    "### Решение"
   ]
  },
  {
   "cell_type": "markdown",
   "id": "1c48ba9a",
   "metadata": {},
   "source": [
    "Создадим новый датафрейм, в котором будет два месяца: Май и Июнь"
   ]
  },
  {
   "cell_type": "markdown",
   "id": "dbe35e8a",
   "metadata": {},
   "source": [
    "#### Объединение датафреймов"
   ]
  },
  {
   "cell_type": "code",
   "execution_count": 32,
   "id": "806e164b",
   "metadata": {},
   "outputs": [],
   "source": [
    "may_june = pd.concat([may_frame, june_frame])"
   ]
  },
  {
   "cell_type": "code",
   "execution_count": 33,
   "id": "4f91c3d2",
   "metadata": {
    "scrolled": false
   },
   "outputs": [
    {
     "data": {
      "text/html": [
       "<div>\n",
       "<style scoped>\n",
       "    .dataframe tbody tr th:only-of-type {\n",
       "        vertical-align: middle;\n",
       "    }\n",
       "\n",
       "    .dataframe tbody tr th {\n",
       "        vertical-align: top;\n",
       "    }\n",
       "\n",
       "    .dataframe thead th {\n",
       "        text-align: right;\n",
       "    }\n",
       "</style>\n",
       "<table border=\"1\" class=\"dataframe\">\n",
       "  <thead>\n",
       "    <tr style=\"text-align: right;\">\n",
       "      <th></th>\n",
       "      <th>client_id</th>\n",
       "      <th>sum</th>\n",
       "      <th>status</th>\n",
       "      <th>sale</th>\n",
       "      <th>new/current</th>\n",
       "      <th>document</th>\n",
       "      <th>receiving_date</th>\n",
       "    </tr>\n",
       "  </thead>\n",
       "  <tbody>\n",
       "    <tr>\n",
       "      <th>2</th>\n",
       "      <td>14.0</td>\n",
       "      <td>5452.7</td>\n",
       "      <td>ОПЛАЧЕНО</td>\n",
       "      <td>Петрова</td>\n",
       "      <td>новая</td>\n",
       "      <td>оригинал</td>\n",
       "      <td>2021-07-26 00:00:00</td>\n",
       "    </tr>\n",
       "    <tr>\n",
       "      <th>3</th>\n",
       "      <td>15.0</td>\n",
       "      <td>13991.7</td>\n",
       "      <td>ОПЛАЧЕНО</td>\n",
       "      <td>Иванов</td>\n",
       "      <td>текущая</td>\n",
       "      <td>оригинал</td>\n",
       "      <td>2021-06-08 00:00:00</td>\n",
       "    </tr>\n",
       "    <tr>\n",
       "      <th>4</th>\n",
       "      <td>16.0</td>\n",
       "      <td>719.7</td>\n",
       "      <td>ОПЛАЧЕНО</td>\n",
       "      <td>Иванов</td>\n",
       "      <td>текущая</td>\n",
       "      <td>оригинал</td>\n",
       "      <td>2021-06-08 00:00:00</td>\n",
       "    </tr>\n",
       "    <tr>\n",
       "      <th>5</th>\n",
       "      <td>18.0</td>\n",
       "      <td>4253.7</td>\n",
       "      <td>ОПЛАЧЕНО</td>\n",
       "      <td>Иванов</td>\n",
       "      <td>текущая</td>\n",
       "      <td>оригинал</td>\n",
       "      <td>2021-07-07 00:00:00</td>\n",
       "    </tr>\n",
       "    <tr>\n",
       "      <th>6</th>\n",
       "      <td>20.0</td>\n",
       "      <td>5796.7</td>\n",
       "      <td>ОПЛАЧЕНО</td>\n",
       "      <td>Кузнецова</td>\n",
       "      <td>текущая</td>\n",
       "      <td>оригинал</td>\n",
       "      <td>2021-07-15 00:00:00</td>\n",
       "    </tr>\n",
       "    <tr>\n",
       "      <th>...</th>\n",
       "      <td>...</td>\n",
       "      <td>...</td>\n",
       "      <td>...</td>\n",
       "      <td>...</td>\n",
       "      <td>...</td>\n",
       "      <td>...</td>\n",
       "      <td>...</td>\n",
       "    </tr>\n",
       "    <tr>\n",
       "      <th>243</th>\n",
       "      <td>281.0</td>\n",
       "      <td>5733.7</td>\n",
       "      <td>ОПЛАЧЕНО</td>\n",
       "      <td>Селиванов</td>\n",
       "      <td>текущая</td>\n",
       "      <td>оригинал</td>\n",
       "      <td>2021-07-22 00:00:00</td>\n",
       "    </tr>\n",
       "    <tr>\n",
       "      <th>244</th>\n",
       "      <td>282.0</td>\n",
       "      <td>953.7</td>\n",
       "      <td>ОПЛАЧЕНО</td>\n",
       "      <td>Селиванов</td>\n",
       "      <td>новая</td>\n",
       "      <td>оригинал</td>\n",
       "      <td>2021-07-16 00:00:00</td>\n",
       "    </tr>\n",
       "    <tr>\n",
       "      <th>245</th>\n",
       "      <td>284.0</td>\n",
       "      <td>8823.7</td>\n",
       "      <td>ПРОСРОЧЕНО</td>\n",
       "      <td>Филимонова</td>\n",
       "      <td>текущая</td>\n",
       "      <td>оригинал</td>\n",
       "      <td>2021-09-08 00:00:00</td>\n",
       "    </tr>\n",
       "    <tr>\n",
       "      <th>246</th>\n",
       "      <td>286.0</td>\n",
       "      <td>3453.7</td>\n",
       "      <td>ОПЛАЧЕНО</td>\n",
       "      <td>Филимонова</td>\n",
       "      <td>текущая</td>\n",
       "      <td>оригинал</td>\n",
       "      <td>2021-07-22 00:00:00</td>\n",
       "    </tr>\n",
       "    <tr>\n",
       "      <th>247</th>\n",
       "      <td>287.0</td>\n",
       "      <td>6543.7</td>\n",
       "      <td>ОПЛАЧЕНО</td>\n",
       "      <td>Филимонова</td>\n",
       "      <td>текущая</td>\n",
       "      <td>оригинал</td>\n",
       "      <td>2021-08-12 00:00:00</td>\n",
       "    </tr>\n",
       "  </tbody>\n",
       "</table>\n",
       "<p>245 rows × 7 columns</p>\n",
       "</div>"
      ],
      "text/plain": [
       "     client_id      sum      status        sale new/current  document  \\\n",
       "2         14.0   5452.7    ОПЛАЧЕНО     Петрова       новая  оригинал   \n",
       "3         15.0  13991.7    ОПЛАЧЕНО      Иванов     текущая  оригинал   \n",
       "4         16.0    719.7    ОПЛАЧЕНО      Иванов     текущая  оригинал   \n",
       "5         18.0   4253.7    ОПЛАЧЕНО      Иванов     текущая  оригинал   \n",
       "6         20.0   5796.7    ОПЛАЧЕНО   Кузнецова     текущая  оригинал   \n",
       "..         ...      ...         ...         ...         ...       ...   \n",
       "243      281.0   5733.7    ОПЛАЧЕНО   Селиванов     текущая  оригинал   \n",
       "244      282.0    953.7    ОПЛАЧЕНО   Селиванов       новая  оригинал   \n",
       "245      284.0   8823.7  ПРОСРОЧЕНО  Филимонова     текущая  оригинал   \n",
       "246      286.0   3453.7    ОПЛАЧЕНО  Филимонова     текущая  оригинал   \n",
       "247      287.0   6543.7    ОПЛАЧЕНО  Филимонова     текущая  оригинал   \n",
       "\n",
       "          receiving_date  \n",
       "2    2021-07-26 00:00:00  \n",
       "3    2021-06-08 00:00:00  \n",
       "4    2021-06-08 00:00:00  \n",
       "5    2021-07-07 00:00:00  \n",
       "6    2021-07-15 00:00:00  \n",
       "..                   ...  \n",
       "243  2021-07-22 00:00:00  \n",
       "244  2021-07-16 00:00:00  \n",
       "245  2021-09-08 00:00:00  \n",
       "246  2021-07-22 00:00:00  \n",
       "247  2021-08-12 00:00:00  \n",
       "\n",
       "[245 rows x 7 columns]"
      ]
     },
     "execution_count": 33,
     "metadata": {},
     "output_type": "execute_result"
    }
   ],
   "source": [
    "may_june"
   ]
  },
  {
   "cell_type": "markdown",
   "id": "763a03ec",
   "metadata": {},
   "source": [
    "#### Добавление столбцов"
   ]
  },
  {
   "cell_type": "markdown",
   "id": "65243974",
   "metadata": {},
   "source": [
    "Добавим новый столбец, в котором будет месяц подачи оригинала"
   ]
  },
  {
   "cell_type": "code",
   "execution_count": 34,
   "id": "742f49b5",
   "metadata": {},
   "outputs": [],
   "source": [
    "temp = pd.to_datetime(may_june['receiving_date'], format='%Y.%m.%d %H:%M:%S')\n",
    "may_june['receiving_month'] = pd.DatetimeIndex(temp).month"
   ]
  },
  {
   "cell_type": "markdown",
   "id": "f4b08dde",
   "metadata": {},
   "source": [
    "#### Обработка пропусков"
   ]
  },
  {
   "cell_type": "markdown",
   "id": "9f929485",
   "metadata": {},
   "source": [
    "Проверим на пропуски"
   ]
  },
  {
   "cell_type": "code",
   "execution_count": 35,
   "id": "fcf41a33",
   "metadata": {
    "scrolled": true
   },
   "outputs": [
    {
     "name": "stdout",
     "output_type": "stream",
     "text": [
      "<class 'pandas.core.frame.DataFrame'>\n",
      "Int64Index: 245 entries, 2 to 247\n",
      "Data columns (total 8 columns):\n",
      " #   Column           Non-Null Count  Dtype  \n",
      "---  ------           --------------  -----  \n",
      " 0   client_id        245 non-null    float64\n",
      " 1   sum              245 non-null    float64\n",
      " 2   status           245 non-null    object \n",
      " 3   sale             245 non-null    object \n",
      " 4   new/current      245 non-null    object \n",
      " 5   document         244 non-null    object \n",
      " 6   receiving_date   244 non-null    object \n",
      " 7   receiving_month  244 non-null    float64\n",
      "dtypes: float64(3), object(5)\n",
      "memory usage: 17.2+ KB\n"
     ]
    }
   ],
   "source": [
    "may_june.info()"
   ]
  },
  {
   "cell_type": "markdown",
   "id": "55a53aa9",
   "metadata": {},
   "source": [
    "- Заполним пропуски в столбце `document` значением `оригинал`, если дата подачи оригинала известна\n",
    "- Заполним пропуск в столбце `receiving_month` значением `0`, так мы будем понимать, что оригинал ещё не донесли"
   ]
  },
  {
   "cell_type": "code",
   "execution_count": 36,
   "id": "bfc46654",
   "metadata": {
    "scrolled": true
   },
   "outputs": [
    {
     "data": {
      "text/html": [
       "<div>\n",
       "<style scoped>\n",
       "    .dataframe tbody tr th:only-of-type {\n",
       "        vertical-align: middle;\n",
       "    }\n",
       "\n",
       "    .dataframe tbody tr th {\n",
       "        vertical-align: top;\n",
       "    }\n",
       "\n",
       "    .dataframe thead th {\n",
       "        text-align: right;\n",
       "    }\n",
       "</style>\n",
       "<table border=\"1\" class=\"dataframe\">\n",
       "  <thead>\n",
       "    <tr style=\"text-align: right;\">\n",
       "      <th></th>\n",
       "      <th>client_id</th>\n",
       "      <th>sum</th>\n",
       "      <th>status</th>\n",
       "      <th>sale</th>\n",
       "      <th>new/current</th>\n",
       "      <th>document</th>\n",
       "      <th>receiving_date</th>\n",
       "      <th>receiving_month</th>\n",
       "    </tr>\n",
       "  </thead>\n",
       "  <tbody>\n",
       "    <tr>\n",
       "      <th>184</th>\n",
       "      <td>115.0</td>\n",
       "      <td>298.7</td>\n",
       "      <td>ОПЛАЧЕНО</td>\n",
       "      <td>Андреев</td>\n",
       "      <td>текущая</td>\n",
       "      <td>NaN</td>\n",
       "      <td>2021-07-14 00:00:00</td>\n",
       "      <td>7.0</td>\n",
       "    </tr>\n",
       "  </tbody>\n",
       "</table>\n",
       "</div>"
      ],
      "text/plain": [
       "     client_id    sum    status     sale new/current document  \\\n",
       "184      115.0  298.7  ОПЛАЧЕНО  Андреев     текущая      NaN   \n",
       "\n",
       "          receiving_date  receiving_month  \n",
       "184  2021-07-14 00:00:00              7.0  "
      ]
     },
     "execution_count": 36,
     "metadata": {},
     "output_type": "execute_result"
    }
   ],
   "source": [
    "may_june[may_june['document'].isnull()]"
   ]
  },
  {
   "cell_type": "markdown",
   "id": "9bac0d2a",
   "metadata": {},
   "source": [
    "Дата известна, заполним пропуски"
   ]
  },
  {
   "cell_type": "code",
   "execution_count": 37,
   "id": "f3e1b7a1",
   "metadata": {},
   "outputs": [],
   "source": [
    "may_june['document'] = may_june['document'].fillna('оригинал')\n",
    "may_june['receiving_month'] = may_june['receiving_month'].fillna(0)"
   ]
  },
  {
   "cell_type": "code",
   "execution_count": 38,
   "id": "6cded71f",
   "metadata": {
    "scrolled": true
   },
   "outputs": [
    {
     "name": "stdout",
     "output_type": "stream",
     "text": [
      "<class 'pandas.core.frame.DataFrame'>\n",
      "Int64Index: 245 entries, 2 to 247\n",
      "Data columns (total 8 columns):\n",
      " #   Column           Non-Null Count  Dtype  \n",
      "---  ------           --------------  -----  \n",
      " 0   client_id        245 non-null    float64\n",
      " 1   sum              245 non-null    float64\n",
      " 2   status           245 non-null    object \n",
      " 3   sale             245 non-null    object \n",
      " 4   new/current      245 non-null    object \n",
      " 5   document         245 non-null    object \n",
      " 6   receiving_date   244 non-null    object \n",
      " 7   receiving_month  245 non-null    float64\n",
      "dtypes: float64(3), object(5)\n",
      "memory usage: 17.2+ KB\n"
     ]
    }
   ],
   "source": [
    "may_june.info()"
   ]
  },
  {
   "cell_type": "markdown",
   "id": "f10e0854",
   "metadata": {},
   "source": [
    "#### Вычисление бонусов и остатков"
   ]
  },
  {
   "cell_type": "markdown",
   "id": "8ff3c285",
   "metadata": {},
   "source": [
    "Создадим два новых столбца, в одном будет записан бонус, во втором остаток"
   ]
  },
  {
   "cell_type": "code",
   "execution_count": 39,
   "id": "fbb985f6",
   "metadata": {},
   "outputs": [],
   "source": [
    "may_june['remainder'] = 0"
   ]
  },
  {
   "cell_type": "code",
   "execution_count": 40,
   "id": "49227fc5",
   "metadata": {
    "scrolled": true
   },
   "outputs": [],
   "source": [
    "def remainder(row):\n",
    "    #Проверка на есть ли договор\n",
    "    if row['receiving_month'] == 0:\n",
    "        return 0\n",
    "    #Проверка на оригинал в мае и в июне\n",
    "    if row['receiving_month'] not in [5,6]:\n",
    "        # Проверка на новую сделку\n",
    "        new = (row['status'] == 'ОПЛАЧЕНО') and (row['document'] == 'оригинал') and (row['new/current'] == 'новая')\n",
    "        \n",
    "        #Проверка на текущую сделку\n",
    "        current = (row['status'] != 'ПРОСРОЧЕНО') and (row['new/current'] == 'текущая') and (row['document'] == 'оригинал')     \n",
    "        \n",
    "        if new:\n",
    "            return row['sum'] * 0.07\n",
    "    \n",
    "        if current and (row['sum'] >= 10000):\n",
    "            return row['sum'] * 0.05\n",
    "        elif current and (row['sum'] < 10000):\n",
    "            return row['sum'] * 0.03\n",
    "        \n",
    "    return 0"
   ]
  },
  {
   "cell_type": "code",
   "execution_count": 41,
   "id": "86dd7bc4",
   "metadata": {},
   "outputs": [],
   "source": [
    "may_june['remainder'] = may_june.apply(remainder, axis=1)"
   ]
  },
  {
   "cell_type": "code",
   "execution_count": 42,
   "id": "f16670a3",
   "metadata": {
    "scrolled": true
   },
   "outputs": [
    {
     "data": {
      "text/html": [
       "<div>\n",
       "<style scoped>\n",
       "    .dataframe tbody tr th:only-of-type {\n",
       "        vertical-align: middle;\n",
       "    }\n",
       "\n",
       "    .dataframe tbody tr th {\n",
       "        vertical-align: top;\n",
       "    }\n",
       "\n",
       "    .dataframe thead th {\n",
       "        text-align: right;\n",
       "    }\n",
       "</style>\n",
       "<table border=\"1\" class=\"dataframe\">\n",
       "  <thead>\n",
       "    <tr style=\"text-align: right;\">\n",
       "      <th></th>\n",
       "      <th>client_id</th>\n",
       "      <th>sum</th>\n",
       "      <th>status</th>\n",
       "      <th>sale</th>\n",
       "      <th>new/current</th>\n",
       "      <th>document</th>\n",
       "      <th>receiving_date</th>\n",
       "      <th>receiving_month</th>\n",
       "      <th>remainder</th>\n",
       "    </tr>\n",
       "  </thead>\n",
       "  <tbody>\n",
       "    <tr>\n",
       "      <th>2</th>\n",
       "      <td>14.0</td>\n",
       "      <td>5452.7</td>\n",
       "      <td>ОПЛАЧЕНО</td>\n",
       "      <td>Петрова</td>\n",
       "      <td>новая</td>\n",
       "      <td>оригинал</td>\n",
       "      <td>2021-07-26 00:00:00</td>\n",
       "      <td>7.0</td>\n",
       "      <td>381.689</td>\n",
       "    </tr>\n",
       "    <tr>\n",
       "      <th>3</th>\n",
       "      <td>15.0</td>\n",
       "      <td>13991.7</td>\n",
       "      <td>ОПЛАЧЕНО</td>\n",
       "      <td>Иванов</td>\n",
       "      <td>текущая</td>\n",
       "      <td>оригинал</td>\n",
       "      <td>2021-06-08 00:00:00</td>\n",
       "      <td>6.0</td>\n",
       "      <td>0.000</td>\n",
       "    </tr>\n",
       "    <tr>\n",
       "      <th>4</th>\n",
       "      <td>16.0</td>\n",
       "      <td>719.7</td>\n",
       "      <td>ОПЛАЧЕНО</td>\n",
       "      <td>Иванов</td>\n",
       "      <td>текущая</td>\n",
       "      <td>оригинал</td>\n",
       "      <td>2021-06-08 00:00:00</td>\n",
       "      <td>6.0</td>\n",
       "      <td>0.000</td>\n",
       "    </tr>\n",
       "    <tr>\n",
       "      <th>5</th>\n",
       "      <td>18.0</td>\n",
       "      <td>4253.7</td>\n",
       "      <td>ОПЛАЧЕНО</td>\n",
       "      <td>Иванов</td>\n",
       "      <td>текущая</td>\n",
       "      <td>оригинал</td>\n",
       "      <td>2021-07-07 00:00:00</td>\n",
       "      <td>7.0</td>\n",
       "      <td>127.611</td>\n",
       "    </tr>\n",
       "    <tr>\n",
       "      <th>6</th>\n",
       "      <td>20.0</td>\n",
       "      <td>5796.7</td>\n",
       "      <td>ОПЛАЧЕНО</td>\n",
       "      <td>Кузнецова</td>\n",
       "      <td>текущая</td>\n",
       "      <td>оригинал</td>\n",
       "      <td>2021-07-15 00:00:00</td>\n",
       "      <td>7.0</td>\n",
       "      <td>173.901</td>\n",
       "    </tr>\n",
       "    <tr>\n",
       "      <th>...</th>\n",
       "      <td>...</td>\n",
       "      <td>...</td>\n",
       "      <td>...</td>\n",
       "      <td>...</td>\n",
       "      <td>...</td>\n",
       "      <td>...</td>\n",
       "      <td>...</td>\n",
       "      <td>...</td>\n",
       "      <td>...</td>\n",
       "    </tr>\n",
       "    <tr>\n",
       "      <th>243</th>\n",
       "      <td>281.0</td>\n",
       "      <td>5733.7</td>\n",
       "      <td>ОПЛАЧЕНО</td>\n",
       "      <td>Селиванов</td>\n",
       "      <td>текущая</td>\n",
       "      <td>оригинал</td>\n",
       "      <td>2021-07-22 00:00:00</td>\n",
       "      <td>7.0</td>\n",
       "      <td>172.011</td>\n",
       "    </tr>\n",
       "    <tr>\n",
       "      <th>244</th>\n",
       "      <td>282.0</td>\n",
       "      <td>953.7</td>\n",
       "      <td>ОПЛАЧЕНО</td>\n",
       "      <td>Селиванов</td>\n",
       "      <td>новая</td>\n",
       "      <td>оригинал</td>\n",
       "      <td>2021-07-16 00:00:00</td>\n",
       "      <td>7.0</td>\n",
       "      <td>66.759</td>\n",
       "    </tr>\n",
       "    <tr>\n",
       "      <th>245</th>\n",
       "      <td>284.0</td>\n",
       "      <td>8823.7</td>\n",
       "      <td>ПРОСРОЧЕНО</td>\n",
       "      <td>Филимонова</td>\n",
       "      <td>текущая</td>\n",
       "      <td>оригинал</td>\n",
       "      <td>2021-09-08 00:00:00</td>\n",
       "      <td>9.0</td>\n",
       "      <td>0.000</td>\n",
       "    </tr>\n",
       "    <tr>\n",
       "      <th>246</th>\n",
       "      <td>286.0</td>\n",
       "      <td>3453.7</td>\n",
       "      <td>ОПЛАЧЕНО</td>\n",
       "      <td>Филимонова</td>\n",
       "      <td>текущая</td>\n",
       "      <td>оригинал</td>\n",
       "      <td>2021-07-22 00:00:00</td>\n",
       "      <td>7.0</td>\n",
       "      <td>103.611</td>\n",
       "    </tr>\n",
       "    <tr>\n",
       "      <th>247</th>\n",
       "      <td>287.0</td>\n",
       "      <td>6543.7</td>\n",
       "      <td>ОПЛАЧЕНО</td>\n",
       "      <td>Филимонова</td>\n",
       "      <td>текущая</td>\n",
       "      <td>оригинал</td>\n",
       "      <td>2021-08-12 00:00:00</td>\n",
       "      <td>8.0</td>\n",
       "      <td>196.311</td>\n",
       "    </tr>\n",
       "  </tbody>\n",
       "</table>\n",
       "<p>245 rows × 9 columns</p>\n",
       "</div>"
      ],
      "text/plain": [
       "     client_id      sum      status        sale new/current  document  \\\n",
       "2         14.0   5452.7    ОПЛАЧЕНО     Петрова       новая  оригинал   \n",
       "3         15.0  13991.7    ОПЛАЧЕНО      Иванов     текущая  оригинал   \n",
       "4         16.0    719.7    ОПЛАЧЕНО      Иванов     текущая  оригинал   \n",
       "5         18.0   4253.7    ОПЛАЧЕНО      Иванов     текущая  оригинал   \n",
       "6         20.0   5796.7    ОПЛАЧЕНО   Кузнецова     текущая  оригинал   \n",
       "..         ...      ...         ...         ...         ...       ...   \n",
       "243      281.0   5733.7    ОПЛАЧЕНО   Селиванов     текущая  оригинал   \n",
       "244      282.0    953.7    ОПЛАЧЕНО   Селиванов       новая  оригинал   \n",
       "245      284.0   8823.7  ПРОСРОЧЕНО  Филимонова     текущая  оригинал   \n",
       "246      286.0   3453.7    ОПЛАЧЕНО  Филимонова     текущая  оригинал   \n",
       "247      287.0   6543.7    ОПЛАЧЕНО  Филимонова     текущая  оригинал   \n",
       "\n",
       "          receiving_date  receiving_month  remainder  \n",
       "2    2021-07-26 00:00:00              7.0    381.689  \n",
       "3    2021-06-08 00:00:00              6.0      0.000  \n",
       "4    2021-06-08 00:00:00              6.0      0.000  \n",
       "5    2021-07-07 00:00:00              7.0    127.611  \n",
       "6    2021-07-15 00:00:00              7.0    173.901  \n",
       "..                   ...              ...        ...  \n",
       "243  2021-07-22 00:00:00              7.0    172.011  \n",
       "244  2021-07-16 00:00:00              7.0     66.759  \n",
       "245  2021-09-08 00:00:00              9.0      0.000  \n",
       "246  2021-07-22 00:00:00              7.0    103.611  \n",
       "247  2021-08-12 00:00:00              8.0    196.311  \n",
       "\n",
       "[245 rows x 9 columns]"
      ]
     },
     "execution_count": 42,
     "metadata": {},
     "output_type": "execute_result"
    }
   ],
   "source": [
    "may_june"
   ]
  },
  {
   "cell_type": "markdown",
   "id": "82c71a0d",
   "metadata": {},
   "source": [
    "Сгруппируем по менеджерам и выведим сумму их остатка на 1 число июня 2021 года"
   ]
  },
  {
   "cell_type": "code",
   "execution_count": 43,
   "id": "d5e5281d",
   "metadata": {
    "scrolled": false
   },
   "outputs": [
    {
     "data": {
      "text/plain": [
       "sale\n",
       "Петрова       10770.7474\n",
       "Смирнов        7152.0000\n",
       "Иванов         5579.3300\n",
       "Селиванов      5238.8540\n",
       "Кузнецова      4496.9501\n",
       "Андреев        3864.8687\n",
       "Филимонова     2317.9579\n",
       "Васильев        953.8770\n",
       "Соколов         269.2110\n",
       "Name: remainder, dtype: float64"
      ]
     },
     "execution_count": 43,
     "metadata": {},
     "output_type": "execute_result"
    }
   ],
   "source": [
    "may_june.groupby('sale')['remainder'].agg('sum').sort_values(ascending=False)"
   ]
  },
  {
   "cell_type": "markdown",
   "id": "2edc07ba",
   "metadata": {},
   "source": [
    "Построим график"
   ]
  },
  {
   "cell_type": "code",
   "execution_count": 44,
   "id": "332bc8af",
   "metadata": {},
   "outputs": [
    {
     "data": {
      "image/png": "[encoded data removed]",
      "text/plain": [
       "<Figure size 640x480 with 1 Axes>"
      ]
     },
     "metadata": {},
     "output_type": "display_data"
    }
   ],
   "source": [
    "plt.title('Остаток каждого из менеджеров')\n",
    "may_june.groupby('sale')['remainder'].agg('sum').sort_values().plot.barh()\n",
    "\n",
    "plt.xlabel('Остаток бонуса на 01-07-2021', color='gray')\n",
    "plt.ylabel('Менеджер',color='gray');"
   ]
  },
  {
   "cell_type": "markdown",
   "id": "5990b741",
   "metadata": {},
   "source": [
    "**Вывод**\n",
    "\n",
    "| Менеджер       | Остаток бонуса |\n",
    "|-----------|------------|\n",
    "| Петрова   | 10770.7474 |\n",
    "| Смирнов   | 7401.8220  |\n",
    "| Иванов    | 5991.4520  |\n",
    "| Селиванов | 5297.6900  |\n",
    "| Кузнецова | 4496.9501  |\n",
    "| Андреев   | 3954.7907  |\n",
    "| Филимонова| 2317.9579  |\n",
    "| Васильев  | 1037.0490  |\n",
    "| Соколов   | 269.2110   |\n"
   ]
  },
  {
   "cell_type": "markdown",
   "id": "1287ffbc",
   "metadata": {},
   "source": [
    "# Отчёт"
   ]
  },
  {
   "cell_type": "markdown",
   "id": "44ff96bd",
   "metadata": {},
   "source": [
    "Была проделана работа по анализу данных и решены следующие проблемы:\n",
    "\n",
    "1) Вычислите общую выручку за июль 2021 по тем сделкам, приход денежных\n",
    "средств которых не просрочен.\n",
    "\n",
    "- Общая выручка за июль 2021 без учёта просроченных составляет **826622.6699999997**"
   ]
  },
  {
   "cell_type": "markdown",
   "id": "3674b01f",
   "metadata": {},
   "source": [
    "2) Как изменялась выручка компании за рассматриваемый период?\n",
    "- Ближе к середине июля был пик по выручке\n",
    "- После пика был сильный упадок и постепенный рост"
   ]
  },
  {
   "cell_type": "code",
   "execution_count": 45,
   "id": "0816b828",
   "metadata": {
    "scrolled": true
   },
   "outputs": [
    {
     "data": {
      "image/png": "[encoded data removed]",
      "text/plain": [
       "<Figure size 600x300 with 1 Axes>"
      ]
     },
     "metadata": {},
     "output_type": "display_data"
    }
   ],
   "source": [
    "july_frame['sum'].plot(title='Изменение выручки за июль 2021', figsize=(6,3));"
   ]
  },
  {
   "cell_type": "markdown",
   "id": "274d92c6",
   "metadata": {},
   "source": [
    "3) Кто из менеджеров привлек для компании больше всего денежных средств в\n",
    "сентябре 2021?\n",
    "\n",
    "- Больше всего денежных средств в сентябре 2021 привлёк - **Смирнов**."
   ]
  },
  {
   "cell_type": "code",
   "execution_count": 46,
   "id": "71c6da06",
   "metadata": {
    "scrolled": true
   },
   "outputs": [
    {
     "data": {
      "image/png": "[encoded data removed]",
      "text/plain": [
       "<Figure size 600x300 with 1 Axes>"
      ]
     },
     "metadata": {},
     "output_type": "display_data"
    }
   ],
   "source": [
    "plt.title('Денежные средства менеджеров за сентябрь 2021')\n",
    "september_frame[september_frame['status'] == 'ОПЛАЧЕНО'].groupby('sale')['sum'].agg('sum').sort_values().plot.barh(figsize=(6,3))\n",
    "plt.xlabel('Денежные средства', color='gray')\n",
    "plt.ylabel('Менеджер',color='gray');\n"
   ]
  },
  {
   "cell_type": "markdown",
   "id": "d88f3a6b",
   "metadata": {},
   "source": [
    "<div style=\"display: none;\">\n",
    "```python\n",
    "\n"
   ]
  },
  {
   "cell_type": "markdown",
   "id": "4144fcc8",
   "metadata": {},
   "source": [
    "</div>"
   ]
  },
  {
   "cell_type": "markdown",
   "id": "867874bd",
   "metadata": {},
   "source": [
    "4) Какой тип сделок (новая/текущая) был преобладающим в октябре 2021?\n",
    "\n",
    "- В октябре 2021 было 130 сделок: 95-текущих, 35-новых.\n",
    "- Преобладающий тип сделок - **текущий**."
   ]
  },
  {
   "cell_type": "code",
   "execution_count": 47,
   "id": "bea04530",
   "metadata": {},
   "outputs": [
    {
     "data": {
      "text/plain": [
       "<Axes: title={'center': 'Типы сделок'}>"
      ]
     },
     "execution_count": 47,
     "metadata": {},
     "output_type": "execute_result"
    },
    {
     "data": {
      "image/png": "[encoded data removed]",
      "text/plain": [
       "<Figure size 350x350 with 1 Axes>"
      ]
     },
     "metadata": {},
     "output_type": "display_data"
    }
   ],
   "source": [
    "plt.title('Типы сделок')\n",
    "october_frame['new/current'].hist(figsize = (3.5,3.5))"
   ]
  },
  {
   "cell_type": "markdown",
   "id": "a31b3ce3",
   "metadata": {},
   "source": [
    "5) Сколько оригиналов договора по майским сделкам было получено в июне 2021?\n",
    "\n",
    "- В июне донесли оригинал договора за майский месяц 77 раза."
   ]
  },
  {
   "cell_type": "markdown",
   "id": "da09215d",
   "metadata": {},
   "source": [
    "6. Вычислить остаток каждого из менеджеров на 01.07.2021\n",
    "\n",
    "- Остаток каждого из менеджеров на 01.07.2021\n",
    "| Менеджер         | Остаток бонуса     |\n",
    "|-------------|-----------|\n",
    "| Петрова     | 10770.7474|\n",
    "| Смирнов     | 7152.0000 |\n",
    "| Иванов      | 5579.3300 |\n",
    "| Селиванов   | 5238.8540 |\n",
    "| Кузнецова   | 4496.9501 |\n",
    "| Андреев     | 3864.8687 |\n",
    "| Филимонова  | 2317.9579 |\n",
    "| Васильев   | 953.8770  |\n",
    "| Соколов     | 269.2110  |\n"
   ]
  },
  {
   "cell_type": "code",
   "execution_count": null,
   "id": "b4d9246c",
   "metadata": {},
   "outputs": [],
   "source": []
  }
 ],
 "metadata": {
  "celltoolbar": "Необработанный формат ячейки",
  "kernelspec": {
   "display_name": "Python 3 (ipykernel)",
   "language": "python",
   "name": "python3"
  },
  "language_info": {
   "codemirror_mode": {
    "name": "ipython",
    "version": 3
   },
   "file_extension": ".py",
   "mimetype": "text/x-python",
   "name": "python",
   "nbconvert_exporter": "python",
   "pygments_lexer": "ipython3",
   "version": "3.11.4"
  }
 },
 "nbformat": 4,
 "nbformat_minor": 5
}
